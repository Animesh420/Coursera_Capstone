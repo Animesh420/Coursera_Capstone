{
 "cells": [
  {
   "cell_type": "markdown",
   "metadata": {},
   "source": [
    "# Restaurant  recommendation engine ( Knowledge based )."
   ]
  },
  {
   "cell_type": "markdown",
   "metadata": {},
   "source": [
    "### Problem Statement: \n",
    " ### Opening a new restaurant can be challenging in metropolitian cities,  but why?\n",
    "   1. Having an idea of a restaurant, which locality or neighborhood is most suitable to open?\n",
    "   2. Having chosen an area to open a restaurant, which type of restaurant is more suitable to open?\n",
    "    \n",
    "### In this project we explore this problem for the city of Bangalore, Karnataka, India. We try to answer:\n",
    "   1. Given a restaurant type what type of location is right to invest in ? ( Question 1 above )\n",
    "   2. Given a location what type of restaurant is better suited there? ( Question 2 above )\n",
    "    \n",
    "\n",
    "        \n",
    "    "
   ]
  },
  {
   "cell_type": "markdown",
   "metadata": {},
   "source": [
    "### Describing the data\n",
    "    \n",
    "  1. The data for this project is taken from a publically available kaggle repository,\n",
    "     https://www.kaggle.com/himanshupoddar/zomato-bangalore-restaurants/download of user himanshupoddar.\n",
    "  2. The dataset is 547 MB in size and has many fields which are described below in the sense of a dataframe.\n",
    "        * **url**:  Website link for restaurant\n",
    "        * **addresss**:  Physical address of restaurant\n",
    "        * **name**:  Restaurant name\n",
    "        * **online_order**:  Wether the restaurant supports online order\n",
    "        * **book_table**:  Table booking allowed or not\n",
    "        * **rate**:  Rating of restaurant out of 5\n",
    "        * **votes**:  Votes in support of rating.\n",
    "        * **phone**:  Phone number of restaurant\n",
    "        * **location**:  Zomato circle ( Equivalent of neighborhood)\n",
    "        * **rest_type**:  Restaurant sub type \n",
    "        * **dish_liked**:  Popular restaurant dishes\n",
    "        * **cuisines**:  Available cuisines classifications\n",
    "        * **approx_cost(for two people)**:  Cost of dining for two people\n",
    "        * **reviews_list**:  List of reviews by users\n",
    "        * **menu_item**:  Menu items in restaurant.\n",
    "        * **listed_in(type)**:  Type of Restaurant\n",
    "        * **listed_in(city)**:  City locality where restaurant is present\n",
    "  3. This dataframe/ csv is zomato's data."
   ]
  },
  {
   "cell_type": "markdown",
   "metadata": {},
   "source": [
    "### Algorithm for project\n",
    "### a.) Given a restaurant type what type of location is right to invest in ? \n",
    "  1. **The right location can be either of**:\n",
    "        - A location which has low presence of the restaurant type ( new market ).\n",
    "        - A location which has high presence of the restaurant type ( existing well established market ).\n",
    "  2. **The algorithm present results to both requirements**.\n",
    "        - New markets are identified by low presence of the restaurant type in certain areas and this is further\n",
    "          ascertained by looking at neighborhoods and figuring out areas with lowest presence for the restaurant type.\n",
    "        - Areas with high votes for the restaurant types are figured out and displayed, these areas provide ease of doing business because of well established customer base, ease of getting raw materials and amicable government policies and tax reforms. \n",
    "        \n",
    "        - A well established brand usually targets the second option while a new restaurant can choose to play safe.\n",
    "                                                       \n",
    "                                                       \n",
    "                                                       \n",
    "### a.) Given a location what type of restaurant should be considered ? \n",
    "  1. **The right restaurant type can be found by**:\n",
    "        - Looking at different restaurant types by frequency and figuring smallest of them.\n",
    "        - Next this is repeated for nearest neighbors, and finally a log or a table is presented.\n",
    "  2. **To support a new restaurant type, we show high rated restaurant types in nearby areas**:\n",
    "        - In the nearby areas, a restaurant type is suggested by their rating type.\n",
    "                                                       "
   ]
  },
  {
   "cell_type": "markdown",
   "metadata": {},
   "source": [
    "### How to run the code?\n",
    "1. The code can be run in two ways, either by downloading the dataset or running the kaggle notebook directly.\n",
    "    - To download the dataset, go to https://www.kaggle.com/himanshupoddar/zomato-bangalore-restaurants/download\n",
    "    - This will download the csv file as zip, unzip it and use it to read zomato.csv.\n",
    "    - The githud repo is located at https://github.com/Animesh420/Coursera_Capstone/blob/master/zomato.ipynb\n",
    "    - To see the entire running notebook directly visit, https://www.kaggle.com/animesh420/kernel103fd8fc20/edit"
   ]
  },
  {
   "cell_type": "markdown",
   "metadata": {},
   "source": [
    "### Steps of Execution ( Methodology )\n",
    "1. The dataset is download and unzipped to the current working directory. This dataset cannot be uploaded to github as it exceeds the size of github allowed files.\n",
    "2. The dataset is read as pandas dataframe,  in zomato\n",
    "3. For each unique location in zomato, its coordinates are read by using geopy module, the method get_location, returns the dataframe that has latitude and longitude details included.\n",
    "4. Dataframes to record frequency and aveage rating of each restaurant is created using the zomato and zdf dataframes. This is created with respect to all restaurant sub types.\n",
    "5. Dataframe to record frequency for all restaurant types, is created.\n",
    "6. A method to identify type of restaurant per location is created ( Problem 2 as above ), it is interactive though it can be hardcoded also. \n",
    "7. Similarly a method to identify locations based on restaurant types is created, it is interactive but can be hardcoded also."
   ]
  },
  {
   "cell_type": "markdown",
   "metadata": {},
   "source": [
    "### Results:\n",
    "1. For a particular location the restaurant types are suggested by logs and table. Example logs: ( for location='BTM')\n",
    "    - Best to open:\n",
    "        - Buffet at Hosur Road\n",
    "        - Cafes at Hosur Road\n",
    "        - Delivery at Hosur Road\n",
    "        - Desserts at Hosur Road\n",
    "        - Dine-out at Hosur Road\n",
    "        - Drinks & nightlife at Hosur Road\n",
    "        - Pubs and bars at Jayanagar\n",
    "    - Recommendations\n",
    "        - Recommend to open Casual Dining, Bar  at Hosur Road\n",
    "        - Example of Higest rated restaurant Casual Dining, Bar with metrics (located at BTM):\n",
    "             - Restaurant Name : 3B's - Buddies, Bar & Barbecues\n",
    "             - Rate : 4.4\n",
    "             - Cusinies : North Indian, Mediterranean, European, BBQ\n",
    "             - Dish Liked : Paan Ice Cream, Cocktails, Fish Grill, Crispy Corn, Butter Chicken, Phirni, Chicken Tikka\n",
    "             - Cost for two : 1,100\n",
    "             - Address : 5th Floor, CPR Tower, 100 Feet Ring Road, 1st Phase, 2nd Stage, BTM, Bangalore\n",
    "\n",
    "        - Recommend to open Pub  at BTM \n",
    "        - Example of Higest rated restaurant Pub with metrics (located at Bannerghatta Road):\n",
    "             - Restaurant Name : Deja Vu Resto Bar\n",
    "             - Rate : 4.4\n",
    "             - Cusinies : North Indian, Italian\n",
    "             - Dish Liked : Gajar Ka Halwa, Chilli Chicken, Hara Bhara Kebab, Custard, Brownie, Sev Puri, Pasta\n",
    "             - Cost for two : 900\n",
    "             - Address : 5th Floor, Gopalan Innovation Mall, Bannerghatta Road, Bangalore\n",
    "             \n",
    "2. For a particular restaurant type, locations are displayed . ( restaurant type = \"Buffet\" )\n",
    "\n",
    "\n",
    "\n",
    "                   self\t1st\t2nd\t3rd\t4th\t5th\t6th\tTotal\n",
    "      KR Puram\t    0\t 0\t  0\t  0\t  0\t  0\t  0\t   0.0\n",
    "      Kengeri\t     0\t 0\t  0\t  0\t  0\t  0\t  17      17.0\n",
    "      New BEL Road\t0\t 0\t  96     0\t  0\t  0\t  0\t   96.0\n",
    "      Sahakara Nagar  0\t349\t 0\t  0\t  0\t  0\t  0\t   349.0\n",
    "      Kaggadasapura   0\t 0\t  0\t  0\t 388\t 0\t  0       388.0\n",
    "         \n",
    "        \n",
    "        \n",
    "                       Buffet\n",
    "    location\t\n",
    "    Koramangala\t    291395.0\n",
    "    Indiranagar\t    71997.0\n",
    "    Marathahalli\t   63679.0\n",
    "    Church Street\t  47865.0\n",
    "    BTM\t            43073.0\n",
    "    MG Road\t        41140.0\n",
    "    JP Nagar\t       38627.0\n",
    "\n",
    "\n",
    "\n",
    "\n",
    "\n",
    "\n"
   ]
  },
  {
   "cell_type": "markdown",
   "metadata": {},
   "source": [
    "### Discussions  and scope of improvement\n",
    "1. The results are described from the available data. \n",
    "    - **Improvement**\n",
    "        - The ratings can be evaluated using a weighted rating which takes in votes of users as a metric.\n",
    "        - The prediction of rating based on the other fields can be created using linear regression.\n",
    "2. Given a location, we project possible restaurants by figuring out which restaurant types are in low presence in the location and nearby areas.\n",
    "    - For the chosen restaurant type, all location in Bangalore with best rating for the restaurant type are displayed.\n",
    "    - Details of ranking, dish liked, cuisines, cost for two, address are displayed.\n",
    "3. Given a restaurant type, we evaluate all the neighborhood that have low presence of the restaurant type.\n",
    "    - Low presence of restuarant in a neigborhood is an opportunity for safer investments.\n",
    "    - Next, we display top presence of these restaurant types, for each location by votes.\n",
    "    - This is suitable for opening restaurants in a well established market."
   ]
  },
  {
   "cell_type": "markdown",
   "metadata": {},
   "source": [
    "### Conclusion:\n",
    "1. The project recommends the location of a restaurant for a restaurant type, or a restaurant type based on location from the available data.\n",
    "2. This recommendation is strictly carried out from data as the real data is from zomato APIs.\n",
    "3. The results can be seen in an adjustable fashion where parameters can be varied to get different results."
   ]
  },
  {
   "cell_type": "code",
   "execution_count": null,
   "metadata": {},
   "outputs": [],
   "source": []
  }
 ],
 "metadata": {
  "kernelspec": {
   "display_name": "Python 3",
   "language": "python",
   "name": "python3"
  },
  "language_info": {
   "codemirror_mode": {
    "name": "ipython",
    "version": 3
   },
   "file_extension": ".py",
   "mimetype": "text/x-python",
   "name": "python",
   "nbconvert_exporter": "python",
   "pygments_lexer": "ipython3",
   "version": "3.7.4"
  }
 },
 "nbformat": 4,
 "nbformat_minor": 2
}
