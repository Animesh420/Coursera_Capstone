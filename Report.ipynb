{
 "cells": [
  {
   "cell_type": "markdown",
   "metadata": {},
   "source": [
    "# Restaurant  recommendation engine ( Knowledge based )."
   ]
  },
  {
   "cell_type": "markdown",
   "metadata": {},
   "source": [
    "### Problem Statement: \n",
    " ### Opening a new restaurant can be challenging in metropolitian cities,  but why?\n",
    "   1. Having an idea of a restaurant, which locality or neighborhood is most suitable to open?\n",
    "   2. Having chosen an area to open a restaurant, which type of restaurant is more suitable to open?\n",
    "    \n",
    "### In this project we explore this problem for the city of Bangalore, Karnataka, India. We try to answer:\n",
    "   1. Given a restaurant type what type of location is right to invest in ? ( Question 1 above )\n",
    "   2. Given a location what type of restaurant is better suited there? ( Question 2 above )\n",
    "    \n",
    "\n",
    "        \n",
    "    "
   ]
  },
  {
   "cell_type": "markdown",
   "metadata": {},
   "source": [
    "### Describing the data\n",
    "    \n",
    "  1. The data for this project is taken from a publically available kaggle repository,\n",
    "     https://www.kaggle.com/himanshupoddar/zomato-bangalore-restaurants/download of user himanshupoddar.\n",
    "  2. The dataset is 547 MB in size and has many fields which are described below in the sense of a dataframe.\n",
    "        * **url**:  Website link for restaurant\n",
    "        * **addresss**:  Physical address of restaurant\n",
    "        * **name**:  Restaurant name\n",
    "        * **online_order**:  Wether the restaurant supports online order\n",
    "        * **book_table**:  Table booking allowed or not\n",
    "        * **rate**:  Rating of restaurant out of 5\n",
    "        * **votes**:  Votes in support of rating.\n",
    "        * **phone**:  Phone number of restaurant\n",
    "        * **location**:  Zomato circle ( Equivalent of neighborhood)\n",
    "        * **rest_type**:  Restaurant sub type \n",
    "        * **dish_liked**:  Popular restaurant dishes\n",
    "        * **cuisines**:  Available cuisines classifications\n",
    "        * **approx_cost(for two people)**:  Cost of dining for two people\n",
    "        * **reviews_list**:  List of reviews by users\n",
    "        * **menu_item**:  Menu items in restaurant.\n",
    "        * **listed_in(type)**:  Type of Restaurant\n",
    "        * **listed_in(city)**:  City locality where restaurant is present\n",
    "  3. This dataframe/ csv is zomato's data."
   ]
  },
  {
   "cell_type": "markdown",
   "metadata": {},
   "source": [
    "### Algorithm for project\n",
    "### a.) Given a restaurant type what type of location is right to invest in ? \n",
    "  1. **The right location can be either of**:\n",
    "        - A location which has low presence of the restaurant type ( new market ).\n",
    "        - A location which has high presence of the restaurant type ( existing well established market ).\n",
    "  2. **The algorithm present results to both requirements**.\n",
    "        - New markets are identified by low presence of the restaurant type in certain areas and this is further\n",
    "          ascertained by looking at neighborhoods and figuring out areas with lowest presence for the restaurant type.\n",
    "        - Areas with high votes for the restaurant types are figured out and displayed, these areas provide ease of doing business because of well established customer base, ease of getting raw materials and amicable government policies and tax reforms. \n",
    "        \n",
    "        - A well established brand usually targets the second option while a new restaurant can choose to play safe.\n",
    "                                                       \n",
    "                                                       \n",
    "                                                       \n",
    "### a.) Given a location what type of restaurant should be considered ? \n",
    "  1. **The right restaurant type can be found by**:\n",
    "        - Looking at different restaurant types by frequency and figuring smallest of them.\n",
    "        - Next this is repeated for nearest neighbors, and finally a log or a table is presented.\n",
    "  2. **To support a new restaurant type, we show high rated restaurant types in nearby areas**:\n",
    "        - In the nearby areas, a restaurant type is suggested by their rating type.\n",
    "                                                       "
   ]
  },
  {
   "cell_type": "code",
   "execution_count": null,
   "metadata": {},
   "outputs": [],
   "source": []
  },
  {
   "cell_type": "code",
   "execution_count": null,
   "metadata": {},
   "outputs": [],
   "source": []
  }
 ],
 "metadata": {
  "kernelspec": {
   "display_name": "Python 3",
   "language": "python",
   "name": "python3"
  },
  "language_info": {
   "codemirror_mode": {
    "name": "ipython",
    "version": 3
   },
   "file_extension": ".py",
   "mimetype": "text/x-python",
   "name": "python",
   "nbconvert_exporter": "python",
   "pygments_lexer": "ipython3",
   "version": "3.7.4"
  }
 },
 "nbformat": 4,
 "nbformat_minor": 2
}
